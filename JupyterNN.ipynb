{
 "cells": [
  {
   "cell_type": "code",
   "execution_count": 53,
   "metadata": {},
   "outputs": [],
   "source": [
    "#!/usr/bin/env python3\n",
    "import sys, math, csv\n",
    "import numpy as np\n",
    "import matplotlib.pyplot\n",
    "%matplotlib inline\n",
    "\n",
    "#xHidden = w_input_hidden * I matrix inputs\n",
    "\n",
    "class NeuralNetwork:\n",
    "    \n",
    "    def __init__(self, inputNodes,hiddenNodes,outputNodes ):\n",
    "        self.iNodes = inputNodes\n",
    "        self.oNodes = outputNodes\n",
    "        self.hNodes = hiddenNodes\n",
    "        self.wInputHidden = np.random.rand(self.hNodes,self.iNodes)\n",
    "        self.wOutput = np.random.rand(self.oNodes, self.hNodes)\n",
    "        self.learningRate = 1\n",
    "        \n",
    "        self.learningRate = 0.5\n",
    "    def printStats(self):\n",
    "        print(\"number of inputs {}, hidden {}, output {}\".format(self.iNodes, self.oNodes, self.hNodes))\n",
    "        print(\"wInputHidden\")\n",
    "        print(self.wInputHidden)\n",
    "        print(\"wOutput\")\n",
    "        print(self.wOutput)\n",
    "        \n",
    "    def train(self):\n",
    "        pass\n",
    "    \n",
    "    def query(self, input_list):\n",
    "        # Create numpy array with input list\n",
    "        inputs = np.array(input_list, ndmin=0).T\n",
    "        print(\"inputs:\")\n",
    "        print(inputs)\n",
    "        # calculate new hidden inputs from inputs and weights of input layer\n",
    "        hidden_inputs = (np.dot(self.wInputHidden, inputs))\n",
    "        print(\"hidden inputs after dot product\")\n",
    "        print(hidden_inputs)\n",
    "        \n",
    "        print(\"hidden Outputs after mult\")\n",
    "        siged_hidden_outputs = [self.sigmoid(x) for x in hidden_inputs ]\n",
    "        print(hidden_inputs)\n",
    "        print(\"hidden after sig\")\n",
    "        print(siged_hidden_outputs)\n",
    "        \n",
    "        final_inputs = np.dot(self.wOutput, siged_hidden_outputs)\n",
    "        print(\"final_inputs\")\n",
    "        print(final_inputs)\n",
    "        \n",
    "        siged_final_outputs = [self.sigmoid(x) for x in final_inputs]\n",
    "        print(\"siged final outputs\")\n",
    "        print(siged_final_outputs)\n",
    "\n",
    "    def sigmoidPrime(self,x):\n",
    "        return (self.sigmoid(x) - (1-self.sigmoid(x)))\n",
    "\n",
    "    # sigmoid activation function\n",
    "    def sigmoid(self,x):\n",
    "        return 1 / (1 + math.exp(-x))\n",
    "\n",
    "\n",
    "def main():\n",
    "    newNN = NeuralNetwork(4, 5, 3)\n",
    "    a = np.array([1,0,0,1])\n",
    "    newNN.printStats()\n",
    "    newNN.query(a)\n",
    "\n",
    "    "
   ]
  },
  {
   "cell_type": "code",
   "execution_count": null,
   "metadata": {},
   "outputs": [],
   "source": []
  },
  {
   "cell_type": "code",
   "execution_count": 54,
   "metadata": {},
   "outputs": [
    {
     "name": "stdout",
     "output_type": "stream",
     "text": [
      "number of inputs 4, hidden 3, output 5\n",
      "wInputHidden\n",
      "[[0.18768776 0.93966754 0.59965435 0.26630898]\n",
      " [0.71716099 0.54833916 0.50104872 0.45438892]\n",
      " [0.49881844 0.62586156 0.11469112 0.10706856]\n",
      " [0.16400201 0.21188383 0.66794056 0.97534732]\n",
      " [0.78212644 0.40384603 0.51948113 0.22715305]]\n",
      "wOutput\n",
      "[[0.68310596 0.06255215 0.07486091 0.91810802 0.23844969]\n",
      " [0.64515275 0.71156045 0.20427558 0.18630417 0.23717405]\n",
      " [0.71895244 0.67715922 0.28963879 0.23277948 0.24372581]]\n",
      "hidden Outputs after mult\n",
      "[0.45399675 1.17154991 0.605887   1.13934933 1.00927949]\n",
      "hidden after sig\n",
      "[0.611589074689745, 0.7634250545715364, 0.6470020006215393, 0.7575601546420316, 0.732879121560397]\n",
      "final_inputs\n",
      "[1.38424602 1.38491468 1.49902666]\n",
      "siged final outputs\n",
      "[0.7996720643028281, 0.7997791595999708, 0.8174292615532601]\n"
     ]
    }
   ],
   "source": [
    "if __name__ == '__main__':\n",
    "    main()"
   ]
  },
  {
   "cell_type": "code",
   "execution_count": null,
   "metadata": {},
   "outputs": [],
   "source": []
  },
  {
   "cell_type": "code",
   "execution_count": null,
   "metadata": {},
   "outputs": [],
   "source": []
  },
  {
   "cell_type": "code",
   "execution_count": null,
   "metadata": {},
   "outputs": [],
   "source": []
  }
 ],
 "metadata": {
  "kernelspec": {
   "display_name": "Python 3",
   "language": "python",
   "name": "python3"
  },
  "language_info": {
   "codemirror_mode": {
    "name": "ipython",
    "version": 3
   },
   "file_extension": ".py",
   "mimetype": "text/x-python",
   "name": "python",
   "nbconvert_exporter": "python",
   "pygments_lexer": "ipython3",
   "version": "3.7.3"
  }
 },
 "nbformat": 4,
 "nbformat_minor": 2
}
